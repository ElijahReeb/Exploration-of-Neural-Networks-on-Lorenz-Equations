{
 "cells": [
  {
   "cell_type": "markdown",
   "id": "6535aa5c",
   "metadata": {},
   "source": [
    "Elijah Reeb EE399 Homework 5 \n",
    "Github link - "
   ]
  },
  {
   "cell_type": "code",
   "execution_count": 1,
   "id": "e6aa3f17",
   "metadata": {},
   "outputs": [],
   "source": [
    "import numpy as np\n",
    "import matplotlib.pyplot as plt\n",
    "from matplotlib import rcParams\n",
    "from scipy import integrate\n",
    "from mpl_toolkits.mplot3d import Axes3D"
   ]
  },
  {
   "cell_type": "code",
   "execution_count": 82,
   "id": "90514eaa",
   "metadata": {},
   "outputs": [],
   "source": [
    "def lorenz_solve(rho):\n",
    "\n",
    "#     rcParams.update({'font.size': 18})\n",
    "#     plt.rcParams['figure.figsize'] = [12, 12]\n",
    "\n",
    "    dt = 0.01\n",
    "    T = 8\n",
    "    t = np.arange(0,T+dt,dt)\n",
    "    beta = 8/3\n",
    "    sigma = 10\n",
    "    rho = rho\n",
    "\n",
    "\n",
    "    lor_input = np.zeros((100*(len(t)-1),3))\n",
    "    lor_output = np.zeros_like(lor_input)\n",
    "\n",
    "#     fig,ax = plt.subplots(1,1,subplot_kw={'projection': '3d'})\n",
    "#     title = 'Lorenz Equation Output for rho =  {} '.format(rho)\n",
    "#     fig.suptitle(title, fontsize = 20)\n",
    "\n",
    "\n",
    "    def lorenz_deriv(x_y_z, t0, sigma=sigma, beta=beta, rho=rho):\n",
    "        x, y, z = x_y_z\n",
    "        return [sigma * (y - x), x * (rho - z) - y, x * y - beta * z]\n",
    "\n",
    "    np.random.seed(123)\n",
    "    x0 = -15 + 30 * np.random.random((100, 3))\n",
    "\n",
    "    x_t = np.asarray([integrate.odeint(lorenz_deriv, x0_j, t)\n",
    "                      for x0_j in x0])\n",
    "\n",
    "    for j in range(100):\n",
    "        lor_input[j*(len(t)-1):(j+1)*(len(t)-1),:] = x_t[j,:-1,:]\n",
    "        lor_output[j*(len(t)-1):(j+1)*(len(t)-1),:] = x_t[j,1:,:]\n",
    "        x, y, z = x_t[j,:,:].T\n",
    "    \n",
    "#         ax.plot(x, y, z,linewidth=1)\n",
    "#         ax.scatter(x0[j,0],x0[j,1],x0[j,2],color='r')\n",
    "#     ax.view_init(18, -113)\n",
    "#     plt.show()\n",
    "\n",
    "    return lor_input, lor_output\n",
    " "
   ]
  },
  {
   "cell_type": "markdown",
   "id": "bc937445",
   "metadata": {},
   "source": [
    "### Part 1\n",
    "Train a NN to advance the solution from t to t + ∆t for ρ = 10, 28 and 40. Now see how well\n",
    "your NN works for future state prediction for ρ = 17 and ρ = 35"
   ]
  },
  {
   "cell_type": "code",
   "execution_count": 2,
   "id": "e1397568",
   "metadata": {},
   "outputs": [],
   "source": [
    "import torch\n",
    "import torch.nn as nn\n",
    "import torch.optim as optim\n",
    "import numpy as np"
   ]
  },
  {
   "cell_type": "code",
   "execution_count": 97,
   "id": "858a7307",
   "metadata": {},
   "outputs": [],
   "source": [
    "# Define activation functions\n",
    "def logsig(x):\n",
    "    return 1 / (1 + torch.exp(-x))\n",
    "\n",
    "def radbas(x):\n",
    "    return torch.exp(-torch.pow(x, 2))\n",
    "\n",
    "def purelin(x):\n",
    "    return x\n",
    "\n",
    "# Define the model\n",
    "class MyModel(nn.Module):\n",
    "    def __init__(self):\n",
    "        super(MyModel, self).__init__()\n",
    "        self.fc1 = nn.Linear(in_features=3, out_features=40)\n",
    "        self.fc2 = nn.Linear(in_features=40, out_features=30)\n",
    "        self.fc3 = nn.Linear(in_features=30, out_features=10)\n",
    "        self.fc4 = nn.Linear(in_features=10, out_features=3)\n",
    "        \n",
    "    def forward(self, x):\n",
    "        x = logsig(self.fc1(x))\n",
    "        x = radbas(self.fc2(x))\n",
    "        x = radbas(self.fc3(x))\n",
    "        x = purelin(self.fc4(x))\n",
    "        return x\n",
    "\n",
    "# Create model instance\n",
    "model = MyModel()\n",
    "\n",
    "# Define loss function and optimizer\n",
    "criterion = nn.CrossEntropyLoss()\n",
    "optimizer = optim.SGD(model.parameters(), lr=0.02, momentum=.4)"
   ]
  },
  {
   "cell_type": "code",
   "execution_count": 83,
   "id": "e18a1512",
   "metadata": {},
   "outputs": [
    {
     "name": "stdout",
     "output_type": "stream",
     "text": [
      "(80000, 3)\n",
      "(80000, 3)\n",
      "(240000, 3)\n",
      "(240000, 3)\n"
     ]
    }
   ],
   "source": [
    "# Create training data for rho = 10, 28, and 40\n",
    "# this is done by running the function above to generate the lorenz data\n",
    "\n",
    "rho10_inp, rho10_out = lorenz_solve(10)\n",
    "rho28_inp, rho28_out = lorenz_solve(28)\n",
    "rho40_inp, rho40_out = lorenz_solve(40)\n",
    "print(np.shape(rho10_inp))\n",
    "print(np.shape(rho10_out))\n",
    "\n",
    "# compile 3 datasets into 1 dataset for training\n",
    "train_data = np.concatenate((rho10_inp, rho28_inp, rho40_inp), axis=0)\n",
    "print(np.shape(train_data))\n",
    "\n",
    "train_labels = np.concatenate((rho10_out, rho28_out, rho40_out), axis=0)\n",
    "print(np.shape(train_labels))\n",
    "# Convert numpy arrays to PyTorch tensors\n",
    "\n",
    "#nn_input = torch.from_numpy(nn_input).float()\n",
    "#nn_output = torch.from_numpy(nn_output).float()\n",
    "\n",
    "nn_input = torch.tensor(train_data, dtype=torch.float32)\n",
    "nn_output = torch.tensor(train_labels, dtype =torch.float32)"
   ]
  },
  {
   "cell_type": "code",
   "execution_count": 98,
   "id": "56834603",
   "metadata": {},
   "outputs": [
    {
     "name": "stdout",
     "output_type": "stream",
     "text": [
      "Epoch 1, loss=27.9399\n",
      "Epoch 2, loss=4.4731\n",
      "Epoch 3, loss=1.5415\n",
      "Epoch 4, loss=-1.5220\n",
      "Epoch 5, loss=-6.9720\n",
      "Epoch 6, loss=5.6518\n",
      "Epoch 7, loss=-0.6197\n",
      "Epoch 8, loss=-4.0667\n",
      "Epoch 9, loss=-36.5496\n",
      "Epoch 10, loss=-55.0506\n",
      "Epoch 11, loss=-67.1652\n",
      "Epoch 12, loss=-89.2818\n",
      "Epoch 13, loss=-118.3129\n",
      "Epoch 14, loss=-141.3312\n",
      "Epoch 15, loss=-166.8261\n",
      "Epoch 16, loss=-189.9105\n",
      "Epoch 17, loss=-213.7362\n",
      "Epoch 18, loss=-237.2238\n",
      "Epoch 19, loss=-260.7267\n",
      "Epoch 20, loss=-284.1354\n",
      "Epoch 21, loss=-307.5229\n",
      "Epoch 22, loss=-330.8727\n",
      "Epoch 23, loss=-354.2091\n",
      "Epoch 24, loss=-377.5281\n",
      "Epoch 25, loss=-400.8245\n",
      "Epoch 26, loss=-424.0425\n",
      "Epoch 27, loss=-447.0103\n",
      "Epoch 28, loss=-468.7850\n",
      "Epoch 29, loss=-491.2312\n",
      "Epoch 30, loss=-508.2603\n"
     ]
    },
    {
     "data": {
      "image/png": "[encoded data removed]",
      "text/plain": [
       "<Figure size 864x864 with 1 Axes>"
      ]
     },
     "metadata": {
      "needs_background": "light"
     },
     "output_type": "display_data"
    }
   ],
   "source": [
    "# Train the model\n",
    "num_epochs = 30\n",
    "\n",
    "loss_graph = np.zeros(int(num_epochs))\n",
    "\n",
    "for epoch in range(num_epochs):\n",
    "    optimizer.zero_grad()\n",
    "    outputs = model(nn_input)\n",
    "    loss = criterion(outputs, nn_output)\n",
    "    loss.backward()\n",
    "    optimizer.step()\n",
    "    print(f\"Epoch {epoch+1}, loss={loss.item():.4f}\")\n",
    "    loss_graph[epoch] = loss.item()\n",
    "\n",
    "eps = np.arange(num_epochs)\n",
    "plt.plot(eps, loss_graph, 'r', label = 'Loss')\n",
    "plt.xlabel('Epoch')\n",
    "plt.ylabel('Loss')\n",
    "plt.title('FFNN Model on Lorenz Equations Loss')\n",
    "plt.legend()\n",
    "plt.show()"
   ]
  },
  {
   "cell_type": "code",
   "execution_count": 100,
   "id": "2a1b9ddf",
   "metadata": {},
   "outputs": [
    {
     "name": "stdout",
     "output_type": "stream",
     "text": [
      "Test accuracy on rho = 17: -516.5416870117188\n",
      "Test accuracy on rho = 35: -505.4313659667969\n"
     ]
    }
   ],
   "source": [
    "# Test the network on rho of 17 and 35\n",
    "\n",
    "rho17_inp, rho17_out = lorenz_solve(17)\n",
    "rho35_inp, rho35_out = lorenz_solve(35)\n",
    "\n",
    "test17_inp = torch.tensor(rho17_inp, dtype=torch.float32)\n",
    "test17_out = torch.tensor(rho17_out, dtype =torch.float32)\n",
    "\n",
    "# Evaluate the model on the test data\n",
    "with torch.no_grad():\n",
    "    y_pred = model(test17_inp)\n",
    "    loss = nn.MSELoss()(y_pred, test17_out)\n",
    "\n",
    "# Compute the accuracy\n",
    "acc = 1 - loss.item()\n",
    "\n",
    "# Print the accuracy\n",
    "print(\"Test accuracy on rho = 17:\", acc)\n",
    "\n",
    "# Evaluate on rho = 35\n",
    "\n",
    "test35_inp = torch.tensor(rho35_inp, dtype=torch.float32)\n",
    "test35_out = torch.tensor(rho35_out, dtype =torch.float32)\n",
    "\n",
    "# Evaluate the model on the test data\n",
    "with torch.no_grad():\n",
    "    y_pred = model(test35_inp)\n",
    "    loss = nn.MSELoss()(y_pred, test35_out)\n",
    "\n",
    "# Compute the accuracy\n",
    "acc = 1 - loss.item()\n",
    "\n",
    "# Print the accuracy\n",
    "print(\"Test accuracy on rho = 35:\", acc)\n",
    "\n"
   ]
  },
  {
   "cell_type": "code",
   "execution_count": 22,
   "id": "fca21182",
   "metadata": {},
   "outputs": [
    {
     "data": {
      "text/plain": [
       "torch.Size([80000, 3])"
      ]
     },
     "execution_count": 22,
     "metadata": {},
     "output_type": "execute_result"
    }
   ],
   "source": [
    "outputs.shape\n",
    "nn_output.shape"
   ]
  },
  {
   "cell_type": "markdown",
   "id": "2433539a",
   "metadata": {},
   "source": [
    "### Part 2\n",
    "Compare feed-forward, LSTM, RNN and Echo State Networks for forecasting the dynamics."
   ]
  },
  {
   "cell_type": "code",
   "execution_count": 102,
   "id": "b5bac50d",
   "metadata": {},
   "outputs": [
    {
     "ename": "IndexError",
     "evalue": "too many indices for tensor of dimension 2",
     "output_type": "error",
     "traceback": [
      "\u001b[1;31m---------------------------------------------------------------------------\u001b[0m",
      "\u001b[1;31mIndexError\u001b[0m                                Traceback (most recent call last)",
      "Input \u001b[1;32mIn [102]\u001b[0m, in \u001b[0;36m<cell line: 33>\u001b[1;34m()\u001b[0m\n\u001b[0;32m     40\u001b[0m optimizer\u001b[38;5;241m.\u001b[39mzero_grad()\n\u001b[0;32m     42\u001b[0m \u001b[38;5;66;03m# Forward + backward + optimize\u001b[39;00m\n\u001b[1;32m---> 43\u001b[0m outputs \u001b[38;5;241m=\u001b[39m \u001b[43mmodel\u001b[49m\u001b[43m(\u001b[49m\u001b[43minputs\u001b[49m\u001b[43m)\u001b[49m\n\u001b[0;32m     44\u001b[0m loss \u001b[38;5;241m=\u001b[39m criterion(outputs, labels)\n\u001b[0;32m     45\u001b[0m loss\u001b[38;5;241m.\u001b[39mbackward()\n",
      "File \u001b[1;32m~\\anaconda3\\lib\\site-packages\\torch\\nn\\modules\\module.py:1501\u001b[0m, in \u001b[0;36mModule._call_impl\u001b[1;34m(self, *args, **kwargs)\u001b[0m\n\u001b[0;32m   1496\u001b[0m \u001b[38;5;66;03m# If we don't have any hooks, we want to skip the rest of the logic in\u001b[39;00m\n\u001b[0;32m   1497\u001b[0m \u001b[38;5;66;03m# this function, and just call forward.\u001b[39;00m\n\u001b[0;32m   1498\u001b[0m \u001b[38;5;28;01mif\u001b[39;00m \u001b[38;5;129;01mnot\u001b[39;00m (\u001b[38;5;28mself\u001b[39m\u001b[38;5;241m.\u001b[39m_backward_hooks \u001b[38;5;129;01mor\u001b[39;00m \u001b[38;5;28mself\u001b[39m\u001b[38;5;241m.\u001b[39m_backward_pre_hooks \u001b[38;5;129;01mor\u001b[39;00m \u001b[38;5;28mself\u001b[39m\u001b[38;5;241m.\u001b[39m_forward_hooks \u001b[38;5;129;01mor\u001b[39;00m \u001b[38;5;28mself\u001b[39m\u001b[38;5;241m.\u001b[39m_forward_pre_hooks\n\u001b[0;32m   1499\u001b[0m         \u001b[38;5;129;01mor\u001b[39;00m _global_backward_pre_hooks \u001b[38;5;129;01mor\u001b[39;00m _global_backward_hooks\n\u001b[0;32m   1500\u001b[0m         \u001b[38;5;129;01mor\u001b[39;00m _global_forward_hooks \u001b[38;5;129;01mor\u001b[39;00m _global_forward_pre_hooks):\n\u001b[1;32m-> 1501\u001b[0m     \u001b[38;5;28;01mreturn\u001b[39;00m forward_call(\u001b[38;5;241m*\u001b[39margs, \u001b[38;5;241m*\u001b[39m\u001b[38;5;241m*\u001b[39mkwargs)\n\u001b[0;32m   1502\u001b[0m \u001b[38;5;66;03m# Do not call functions when jit is used\u001b[39;00m\n\u001b[0;32m   1503\u001b[0m full_backward_hooks, non_full_backward_hooks \u001b[38;5;241m=\u001b[39m [], []\n",
      "Input \u001b[1;32mIn [102]\u001b[0m, in \u001b[0;36mLSTMModel.forward\u001b[1;34m(self, x)\u001b[0m\n\u001b[0;32m     13\u001b[0m \u001b[38;5;28;01mdef\u001b[39;00m \u001b[38;5;21mforward\u001b[39m(\u001b[38;5;28mself\u001b[39m, x):\n\u001b[0;32m     14\u001b[0m     lstm_out, _ \u001b[38;5;241m=\u001b[39m \u001b[38;5;28mself\u001b[39m\u001b[38;5;241m.\u001b[39mlstm(x)\n\u001b[1;32m---> 15\u001b[0m     out \u001b[38;5;241m=\u001b[39m \u001b[38;5;28mself\u001b[39m\u001b[38;5;241m.\u001b[39mfc(\u001b[43mlstm_out\u001b[49m\u001b[43m[\u001b[49m\u001b[43m:\u001b[49m\u001b[43m,\u001b[49m\u001b[43m \u001b[49m\u001b[38;5;241;43m-\u001b[39;49m\u001b[38;5;241;43m1\u001b[39;49m\u001b[43m,\u001b[49m\u001b[43m \u001b[49m\u001b[43m:\u001b[49m\u001b[43m]\u001b[49m)\n\u001b[0;32m     16\u001b[0m     \u001b[38;5;28;01mreturn\u001b[39;00m out\n",
      "\u001b[1;31mIndexError\u001b[0m: too many indices for tensor of dimension 2"
     ]
    }
   ],
   "source": [
    "# Now to set up LSTM Model for this data\n",
    "\n",
    "import torch\n",
    "import torch.nn as nn\n",
    "\n",
    "# Define the LSTM model\n",
    "class LSTMModel(nn.Module):\n",
    "    def __init__(self, input_size, hidden_size, num_layers, output_size):\n",
    "        super(LSTMModel, self).__init__()\n",
    "        self.lstm = nn.LSTM(input_size, hidden_size, num_layers)\n",
    "        self.fc = nn.Linear(hidden_size, output_size)\n",
    "\n",
    "    def forward(self, x):\n",
    "        lstm_out, _ = self.lstm(x)\n",
    "        out = self.fc(lstm_out[:, -1, :])\n",
    "        return out\n",
    "\n",
    "# Initialize the model\n",
    "input_size = 3\n",
    "hidden_size = 50\n",
    "num_layers = 1\n",
    "output_size = 3\n",
    "model = LSTMModel(input_size, hidden_size, num_layers, output_size)\n",
    "\n",
    "# Train model \n",
    "\n",
    "# Set the loss function and optimizer\n",
    "criterion = nn.MSELoss()\n",
    "optimizer = optim.Adam(model.parameters(), lr=0.01)\n",
    "\n",
    "# Train the model\n",
    "n_epochs = 10\n",
    "for epoch in range(n_epochs):\n",
    "    running_loss = 0.0\n",
    "    # Get the inputs and labels\n",
    "    inputs = nn_input\n",
    "    labels = nn_output\n",
    "\n",
    "    # Zero the parameter gradients\n",
    "    optimizer.zero_grad()\n",
    "\n",
    "    # Forward + backward + optimize\n",
    "    outputs = model(inputs)\n",
    "    loss = criterion(outputs, labels)\n",
    "    loss.backward()\n",
    "    optimizer.step()\n",
    "\n",
    "    # Print statistics\n",
    "    running_loss += loss.item()\n",
    "    if epoch % 100 == 99:\n",
    "        print('[%d, %5d] loss: %.3f' %\n",
    "              (epoch + 1, i + 1, running_loss / 100))\n",
    "        running_loss = 0.0\n",
    "\n",
    "# Evaluate the model on the test data\n",
    "with torch.no_grad():\n",
    "    y_pred = model(X_test)\n",
    "    loss = nn.MSELoss()(y_pred, y_test)\n",
    "\n",
    "# Compute the accuracy\n",
    "acc = 1 - loss.item()\n",
    "\n",
    "# Print the accuracy\n",
    "print(\"Test accuracy:\", acc)\n"
   ]
  },
  {
   "cell_type": "code",
   "execution_count": null,
   "id": "cbd0ece1",
   "metadata": {},
   "outputs": [],
   "source": [
    "# Now to set up RNN Model for this data"
   ]
  },
  {
   "cell_type": "code",
   "execution_count": null,
   "id": "5f203846",
   "metadata": {},
   "outputs": [],
   "source": [
    "# Now to set up Echo State Network for this data"
   ]
  }
 ],
 "metadata": {
  "kernelspec": {
   "display_name": "Python 3 (ipykernel)",
   "language": "python",
   "name": "python3"
  },
  "language_info": {
   "codemirror_mode": {
    "name": "ipython",
    "version": 3
   },
   "file_extension": ".py",
   "mimetype": "text/x-python",
   "name": "python",
   "nbconvert_exporter": "python",
   "pygments_lexer": "ipython3",
   "version": "3.9.12"
  }
 },
 "nbformat": 4,
 "nbformat_minor": 5
}
